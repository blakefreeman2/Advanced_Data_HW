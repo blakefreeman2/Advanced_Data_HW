{
 "cells": [
  {
   "cell_type": "code",
   "execution_count": 1,
   "metadata": {},
   "outputs": [],
   "source": [
    "%matplotlib inline\n",
    "from matplotlib import style\n",
    "style.use('fivethirtyeight')\n",
    "import matplotlib.pyplot as plt\n",
    "import matplotlib.dates as mdates\n",
    "import matplotlib.cbook as cbook"
   ]
  },
  {
   "cell_type": "code",
   "execution_count": 2,
   "metadata": {},
   "outputs": [],
   "source": [
    "import numpy as np\n",
    "import pandas as pd\n",
    "import calendar"
   ]
  },
  {
   "cell_type": "code",
   "execution_count": 3,
   "metadata": {},
   "outputs": [],
   "source": [
    "import datetime as dt\n",
    "from datetime import date\n",
    "from dateutil.relativedelta import relativedelta\n",
    "from matplotlib.dates import DateFormatter"
   ]
  },
  {
   "cell_type": "markdown",
   "metadata": {},
   "source": [
    "# Reflect Tables into SQLAlchemy ORM"
   ]
  },
  {
   "cell_type": "code",
   "execution_count": 4,
   "metadata": {},
   "outputs": [],
   "source": [
    "# Python SQL toolkit and Object Relational Mapper\n",
    "import sqlalchemy\n",
    "from sqlalchemy.ext.automap import automap_base\n",
    "from sqlalchemy.orm import Session\n",
    "from sqlalchemy import create_engine, func, inspect"
   ]
  },
  {
   "cell_type": "code",
   "execution_count": 5,
   "metadata": {},
   "outputs": [],
   "source": [
    "engine = create_engine(\"sqlite:///Resources/hawaii.sqlite\")"
   ]
  },
  {
   "cell_type": "code",
   "execution_count": 6,
   "metadata": {},
   "outputs": [],
   "source": [
    "# reflect an existing database into a new model\n",
    "Base = automap_base()\n",
    "# reflect the tables\n",
    "Base.prepare(engine, reflect=True)"
   ]
  },
  {
   "cell_type": "code",
   "execution_count": 7,
   "metadata": {},
   "outputs": [
    {
     "data": {
      "text/plain": [
       "['measurement', 'station']"
      ]
     },
     "execution_count": 7,
     "metadata": {},
     "output_type": "execute_result"
    }
   ],
   "source": [
    "# We can view all of the classes that automap found\n",
    "Base.classes.keys()"
   ]
  },
  {
   "cell_type": "code",
   "execution_count": 8,
   "metadata": {},
   "outputs": [],
   "source": [
    "# Save references to each table\n",
    "Measurement = Base.classes.measurement\n",
    "Station = Base.classes.station"
   ]
  },
  {
   "cell_type": "code",
   "execution_count": 9,
   "metadata": {},
   "outputs": [],
   "source": [
    "# Create our session (link) from Python to the DB\n",
    "session = Session(engine)"
   ]
  },
  {
   "cell_type": "code",
   "execution_count": 10,
   "metadata": {},
   "outputs": [
    {
     "name": "stdout",
     "output_type": "stream",
     "text": [
      "id INTEGER\n",
      "station TEXT\n",
      "date TEXT\n",
      "prcp FLOAT\n",
      "tobs FLOAT\n"
     ]
    }
   ],
   "source": [
    "#get the Columns for Measurement Table\n",
    "inspector = inspect(engine)\n",
    "Measurement_columns = inspector.get_columns('measurement')\n",
    "for column in Measurement_columns:\n",
    "    print(column[\"name\"], column[\"type\"])"
   ]
  },
  {
   "cell_type": "code",
   "execution_count": 11,
   "metadata": {},
   "outputs": [
    {
     "name": "stdout",
     "output_type": "stream",
     "text": [
      "id INTEGER\n",
      "station TEXT\n",
      "name TEXT\n",
      "latitude FLOAT\n",
      "longitude FLOAT\n",
      "elevation FLOAT\n"
     ]
    }
   ],
   "source": [
    "#get the Columns for Station Table\n",
    "Station_columns = inspector.get_columns('station')\n",
    "for column in Station_columns:\n",
    "    print(column[\"name\"], column[\"type\"])"
   ]
  },
  {
   "cell_type": "markdown",
   "metadata": {},
   "source": [
    "# Exploratory Climate Analysis"
   ]
  },
  {
   "cell_type": "code",
   "execution_count": 12,
   "metadata": {},
   "outputs": [
    {
     "name": "stdout",
     "output_type": "stream",
     "text": [
      "2017-08-23\n",
      "<class 'str'>\n"
     ]
    }
   ],
   "source": [
    "# Calculate the date 1 year ago from the last data point in the database\n",
    "last_date = session.query(Measurement.date)\\\n",
    ".order_by(Measurement.date.desc())\\\n",
    ".first().date\n",
    "print(last_date)\n",
    "print(type(last_date))"
   ]
  },
  {
   "cell_type": "code",
   "execution_count": 13,
   "metadata": {},
   "outputs": [
    {
     "name": "stdout",
     "output_type": "stream",
     "text": [
      "2017-08-23\n",
      "2016-08-23\n"
     ]
    }
   ],
   "source": [
    "#Get a Year ago from the last date in the Measurement Table\n",
    "current_date = dt.datetime.strptime(last_date,'%Y-%m-%d').date()\n",
    "prior_year = dt.datetime.strptime(last_date, '%Y-%m-%d').date() + relativedelta(years=-1)\n",
    "print(current_date)\n",
    "print(prior_year)"
   ]
  },
  {
   "cell_type": "code",
   "execution_count": 14,
   "metadata": {},
   "outputs": [],
   "source": [
    "# Design a query to retrieve the last 12 months of precipitation data and plot the results\n",
    "perceptation_last_year = session.query(Measurement.date, Measurement.prcp)\\\n",
    ".filter(Measurement.date>=prior_year)\\\n",
    ".order_by(Measurement.date).all()"
   ]
  },
  {
   "cell_type": "code",
   "execution_count": 15,
   "metadata": {},
   "outputs": [
    {
     "data": {
      "text/html": [
       "<div>\n",
       "<style scoped>\n",
       "    .dataframe tbody tr th:only-of-type {\n",
       "        vertical-align: middle;\n",
       "    }\n",
       "\n",
       "    .dataframe tbody tr th {\n",
       "        vertical-align: top;\n",
       "    }\n",
       "\n",
       "    .dataframe thead th {\n",
       "        text-align: right;\n",
       "    }\n",
       "</style>\n",
       "<table border=\"1\" class=\"dataframe\">\n",
       "  <thead>\n",
       "    <tr style=\"text-align: right;\">\n",
       "      <th></th>\n",
       "      <th>perceptation_percent</th>\n",
       "    </tr>\n",
       "    <tr>\n",
       "      <th>date</th>\n",
       "      <th></th>\n",
       "    </tr>\n",
       "  </thead>\n",
       "  <tbody>\n",
       "    <tr>\n",
       "      <th>2016-08-23</th>\n",
       "      <td>0.00</td>\n",
       "    </tr>\n",
       "    <tr>\n",
       "      <th>2016-08-23</th>\n",
       "      <td>0.15</td>\n",
       "    </tr>\n",
       "    <tr>\n",
       "      <th>2016-08-23</th>\n",
       "      <td>0.05</td>\n",
       "    </tr>\n",
       "    <tr>\n",
       "      <th>2016-08-23</th>\n",
       "      <td>NaN</td>\n",
       "    </tr>\n",
       "    <tr>\n",
       "      <th>2016-08-23</th>\n",
       "      <td>0.02</td>\n",
       "    </tr>\n",
       "  </tbody>\n",
       "</table>\n",
       "</div>"
      ],
      "text/plain": [
       "            perceptation_percent\n",
       "date                            \n",
       "2016-08-23                  0.00\n",
       "2016-08-23                  0.15\n",
       "2016-08-23                  0.05\n",
       "2016-08-23                   NaN\n",
       "2016-08-23                  0.02"
      ]
     },
     "execution_count": 15,
     "metadata": {},
     "output_type": "execute_result"
    }
   ],
   "source": [
    "# Save the query results as a Pandas DataFrame and set the index to the date column\n",
    "# I noticed N/A Values along with 0.0 vlaues Decided to drop N/A Values, since they will affect the average perceptation percent for each date.\n",
    "perceptation_df = pd.DataFrame(perceptation_last_year,columns=['date', 'perceptation_percent'])\n",
    "perceptation_df.set_index('date', inplace=True)\n",
    "perceptation_df.head()"
   ]
  },
  {
   "cell_type": "code",
   "execution_count": 16,
   "metadata": {},
   "outputs": [
    {
     "data": {
      "text/html": [
       "<div>\n",
       "<style scoped>\n",
       "    .dataframe tbody tr th:only-of-type {\n",
       "        vertical-align: middle;\n",
       "    }\n",
       "\n",
       "    .dataframe tbody tr th {\n",
       "        vertical-align: top;\n",
       "    }\n",
       "\n",
       "    .dataframe thead th {\n",
       "        text-align: right;\n",
       "    }\n",
       "</style>\n",
       "<table border=\"1\" class=\"dataframe\">\n",
       "  <thead>\n",
       "    <tr style=\"text-align: right;\">\n",
       "      <th></th>\n",
       "      <th>perceptation_percent</th>\n",
       "    </tr>\n",
       "    <tr>\n",
       "      <th>date</th>\n",
       "      <th></th>\n",
       "    </tr>\n",
       "  </thead>\n",
       "  <tbody>\n",
       "    <tr>\n",
       "      <th>2016-08-23</th>\n",
       "      <td>0.00</td>\n",
       "    </tr>\n",
       "    <tr>\n",
       "      <th>2016-08-23</th>\n",
       "      <td>0.15</td>\n",
       "    </tr>\n",
       "    <tr>\n",
       "      <th>2016-08-23</th>\n",
       "      <td>0.05</td>\n",
       "    </tr>\n",
       "    <tr>\n",
       "      <th>2016-08-23</th>\n",
       "      <td>0.02</td>\n",
       "    </tr>\n",
       "    <tr>\n",
       "      <th>2016-08-23</th>\n",
       "      <td>1.79</td>\n",
       "    </tr>\n",
       "  </tbody>\n",
       "</table>\n",
       "</div>"
      ],
      "text/plain": [
       "            perceptation_percent\n",
       "date                            \n",
       "2016-08-23                  0.00\n",
       "2016-08-23                  0.15\n",
       "2016-08-23                  0.05\n",
       "2016-08-23                  0.02\n",
       "2016-08-23                  1.79"
      ]
     },
     "execution_count": 16,
     "metadata": {},
     "output_type": "execute_result"
    }
   ],
   "source": [
    "# Perform a query to retrieve the data and precipitation scores\n",
    "perceptation_df =perceptation_df.dropna()\n",
    "perceptation_df.head()"
   ]
  },
  {
   "cell_type": "code",
   "execution_count": 17,
   "metadata": {},
   "outputs": [
    {
     "data": {
      "image/png": "[encoded data removed]",
      "text/plain": [
       "<Figure size 432x288 with 1 Axes>"
      ]
     },
     "metadata": {
      "needs_background": "light"
     },
     "output_type": "display_data"
    }
   ],
   "source": [
    "# Use Pandas Plotting with Matplotlib to plot the data\n",
    "perceptation_df.plot()\n",
    "plt.xticks([])\n",
    "plt.show()"
   ]
  },
  {
   "cell_type": "code",
   "execution_count": 18,
   "metadata": {},
   "outputs": [
    {
     "data": {
      "text/html": [
       "<div>\n",
       "<style scoped>\n",
       "    .dataframe tbody tr th:only-of-type {\n",
       "        vertical-align: middle;\n",
       "    }\n",
       "\n",
       "    .dataframe tbody tr th {\n",
       "        vertical-align: top;\n",
       "    }\n",
       "\n",
       "    .dataframe thead th {\n",
       "        text-align: right;\n",
       "    }\n",
       "</style>\n",
       "<table border=\"1\" class=\"dataframe\">\n",
       "  <thead>\n",
       "    <tr style=\"text-align: right;\">\n",
       "      <th></th>\n",
       "      <th>perceptation_percent</th>\n",
       "    </tr>\n",
       "  </thead>\n",
       "  <tbody>\n",
       "    <tr>\n",
       "      <th>count</th>\n",
       "      <td>2021.000000</td>\n",
       "    </tr>\n",
       "    <tr>\n",
       "      <th>mean</th>\n",
       "      <td>0.177279</td>\n",
       "    </tr>\n",
       "    <tr>\n",
       "      <th>std</th>\n",
       "      <td>0.461190</td>\n",
       "    </tr>\n",
       "    <tr>\n",
       "      <th>min</th>\n",
       "      <td>0.000000</td>\n",
       "    </tr>\n",
       "    <tr>\n",
       "      <th>25%</th>\n",
       "      <td>0.000000</td>\n",
       "    </tr>\n",
       "    <tr>\n",
       "      <th>50%</th>\n",
       "      <td>0.020000</td>\n",
       "    </tr>\n",
       "    <tr>\n",
       "      <th>75%</th>\n",
       "      <td>0.130000</td>\n",
       "    </tr>\n",
       "    <tr>\n",
       "      <th>max</th>\n",
       "      <td>6.700000</td>\n",
       "    </tr>\n",
       "  </tbody>\n",
       "</table>\n",
       "</div>"
      ],
      "text/plain": [
       "       perceptation_percent\n",
       "count           2021.000000\n",
       "mean               0.177279\n",
       "std                0.461190\n",
       "min                0.000000\n",
       "25%                0.000000\n",
       "50%                0.020000\n",
       "75%                0.130000\n",
       "max                6.700000"
      ]
     },
     "execution_count": 18,
     "metadata": {},
     "output_type": "execute_result"
    }
   ],
   "source": [
    "# Use Pandas to calcualte the summary statistics for the precipitation data\n",
    "perceptation_df.describe()"
   ]
  },
  {
   "cell_type": "code",
   "execution_count": 19,
   "metadata": {},
   "outputs": [
    {
     "data": {
      "text/plain": [
       "9"
      ]
     },
     "execution_count": 19,
     "metadata": {},
     "output_type": "execute_result"
    }
   ],
   "source": [
    "# Design a query to show how many stations are available in this dataset?\n",
    "stations_count = session.query(Measurement.station)\\\n",
    ".group_by(Measurement.station).count()\n",
    "\n",
    "stations_count"
   ]
  },
  {
   "cell_type": "code",
   "execution_count": 20,
   "metadata": {},
   "outputs": [
    {
     "data": {
      "text/plain": [
       "[('USC00519281', 2772),\n",
       " ('USC00519397', 2724),\n",
       " ('USC00513117', 2709),\n",
       " ('USC00519523', 2669),\n",
       " ('USC00516128', 2612),\n",
       " ('USC00514830', 2202),\n",
       " ('USC00511918', 1979),\n",
       " ('USC00517948', 1372),\n",
       " ('USC00518838', 511)]"
      ]
     },
     "execution_count": 20,
     "metadata": {},
     "output_type": "execute_result"
    }
   ],
   "source": [
    "# What are the most active stations? (i.e. what stations have the most rows)?\n",
    "stations_active = session.query(Measurement.station, func.count(Measurement.station))\\\n",
    ".group_by(Measurement.station)\\\n",
    ".order_by(func.count(Measurement.station)\\\n",
    "          .desc()).all()\n",
    "# What are the most active stations? (i.e. what stations have the most rows)?\n",
    "stations_active"
   ]
  },
  {
   "cell_type": "code",
   "execution_count": 22,
   "metadata": {},
   "outputs": [
    {
     "data": {
      "text/plain": [
       "'USC00519281'"
      ]
     },
     "execution_count": 22,
     "metadata": {},
     "output_type": "execute_result"
    }
   ],
   "source": [
    "# Finding the most Active Station Name\n",
    "most_active_station = stations_active[0][0]\n",
    "most_active_station"
   ]
  },
  {
   "cell_type": "code",
   "execution_count": 23,
   "metadata": {},
   "outputs": [
    {
     "name": "stdout",
     "output_type": "stream",
     "text": [
      "USC00519281\n",
      "[(54.0, 85.0, 71.66378066378067)]\n"
     ]
    }
   ],
   "source": [
    "# Using the station id from the previous query, calculate the lowest temperature recorded, \n",
    "# highest temperature recorded, and average temperature most active station?\n",
    "\n",
    "temps_most_active_station = session.query(func.min(Measurement.tobs),\\\n",
    "                                          func.max(Measurement.tobs),\\\n",
    "                                          func.avg(Measurement.tobs)).\\\n",
    "filter(Measurement.station == most_active_station).all()\n",
    "\n",
    "print(most_active_station)\n",
    "print(temps_most_active_station)"
   ]
  },
  {
   "cell_type": "code",
   "execution_count": 24,
   "metadata": {},
   "outputs": [
    {
     "data": {
      "image/png": "[encoded data removed]",
      "text/plain": [
       "<Figure size 432x288 with 1 Axes>"
      ]
     },
     "metadata": {
      "needs_background": "light"
     },
     "output_type": "display_data"
    }
   ],
   "source": [
    "# Choose the station with the highest number of temperature observations.\n",
    "# Query the last 12 months of temperature observation data for this station and plot the results as a histogram\n",
    "querystation = session.query(Measurement.tobs)\\\n",
    ".filter(Measurement.date >= prior_year)\\\n",
    ".filter(Measurement.station == most_active_station)\n",
    "\n",
    "\n",
    "df_station = pd.DataFrame(querystation, columns=['tobs'])\n",
    "\n",
    "\n",
    "df_station.plot.hist(bins=12,alpha=1)\n",
    "\n",
    "plt.show()"
   ]
  },
  {
   "cell_type": "code",
   "execution_count": 25,
   "metadata": {},
   "outputs": [
    {
     "name": "stdout",
     "output_type": "stream",
     "text": [
      "[(62.0, 69.57142857142857, 74.0)]\n"
     ]
    }
   ],
   "source": [
    "# This function called `calc_temps` will accept start date and end date in the format '%Y-%m-%d' \n",
    "# and return the minimum, average, and maximum temperatures for that range of dates\n",
    "def calc_temps(start_date, end_date):\n",
    "    \"\"\"TMIN, TAVG, and TMAX for a list of dates.\n",
    "    \n",
    "    Args:\n",
    "        start_date (string): A date string in the format %Y-%m-%d\n",
    "        end_date (string): A date string in the format %Y-%m-%d\n",
    "        \n",
    "    Returns:\n",
    "        TMIN, TAVE, and TMAX\n",
    "    \"\"\"\n",
    "    \n",
    "    return session.query(func.min(Measurement.tobs), func.avg(Measurement.tobs), func.max(Measurement.tobs)).\\\n",
    "        filter(Measurement.date >= start_date).filter(Measurement.date <= end_date).all()\n",
    "\n",
    "# function usage example\n",
    "print(calc_temps('2012-02-28', '2012-03-05'))"
   ]
  },
  {
   "cell_type": "code",
   "execution_count": 26,
   "metadata": {},
   "outputs": [
    {
     "data": {
      "text/plain": [
       "[(73.0, 77.97916666666667, 84.0)]"
      ]
     },
     "execution_count": 26,
     "metadata": {},
     "output_type": "execute_result"
    }
   ],
   "source": [
    "# Use your previous function `calc_temps` to calculate the tmin, tavg, and tmax \n",
    "# for your trip using the previous year's data for those same dates.\n",
    "my_trip_start = '2017-08-31'\n",
    "\n",
    "my_trip_end =  '2017-09-07'\n",
    "\n",
    "my_trip = '2017-08-31 to 2017-09-07'\n",
    "\n",
    "my_trip_start_prior_year = dt.datetime.strptime(my_trip_start,'%Y-%m-%d').date() + relativedelta(years=-1)\n",
    "\n",
    "my_trip_end_prior_year = dt.datetime.strptime(my_trip_end,'%Y-%m-%d').date() + relativedelta(years=-1)\n",
    "\n",
    "temp_range = calc_temps(my_trip_start_prior_year,my_trip_end_prior_year)\n",
    "\n",
    "temp_range"
   ]
  },
  {
   "cell_type": "code",
   "execution_count": 27,
   "metadata": {},
   "outputs": [
    {
     "data": {
      "image/png": "[encoded data removed]",
      "text/plain": [
       "<Figure size 432x288 with 1 Axes>"
      ]
     },
     "metadata": {
      "needs_background": "light"
     },
     "output_type": "display_data"
    }
   ],
   "source": [
    "# Plot the results from your previous query as a bar chart. \n",
    "# Use \"Trip Avg Temp\" as your Title\n",
    "# Use the average temperature for the y value\n",
    "# Use the peak-to-peak (tmax-tmin) value as the y error bar (yerr)\n",
    "\n",
    "minTripTemp = temp_range[0][0]\n",
    "avgTripTemp = temp_range[0][1]\n",
    "maxTripTemp = temp_range[0][2]\n",
    "minError = avgTripTemp - minTripTemp\n",
    "maxError = maxTripTemp - avgTripTemp\n",
    "errorBars = np.array([[minError], [maxError]])\n",
    "plt.bar(my_trip, avgTripTemp, yerr=errorBars, color = 'orangered', alpha = .6)\n",
    "plt.ylim(0, 100)\n",
    "plt.xlim(-1.5, 1.5)\n",
    "plt.title('Trip Avg Temp')\n",
    "plt.ylabel('Temp (F)')\n",
    "plt.grid(alpha=.3)\n"
   ]
  },
  {
   "cell_type": "code",
   "execution_count": 29,
   "metadata": {},
   "outputs": [
    {
     "name": "stdout",
     "output_type": "stream",
     "text": [
      "('USC00516128', 'WAIKIKI 717.2, HI US', 21.2716, -157.8168, 3.0, 2.46)\n",
      "('USC00516128', 'KANEOHE 838.1, HI US', 21.4234, -157.8015, 14.6, 2.46)\n",
      "('USC00516128', 'KUALOA RANCH HEADQUARTERS 886.9, HI US', 21.5213, -157.8374, 7.0, 2.46)\n",
      "('USC00516128', 'PEARL CITY, HI US', 21.3934, -157.9751, 11.9, 2.46)\n",
      "('USC00516128', 'UPPER WAHIAWA 874.3, HI US', 21.4992, -158.0111, 306.6, 2.46)\n",
      "('USC00516128', 'WAIMANALO EXPERIMENTAL FARM, HI US', 21.33556, -157.71139, 19.5, 2.46)\n",
      "('USC00516128', 'WAIHEE 837.5, HI US', 21.45167, -157.84888999999998, 32.9, 2.46)\n",
      "('USC00516128', 'HONOLULU OBSERVATORY 702.2, HI US', 21.3152, -157.9992, 0.9, 2.46)\n",
      "('USC00516128', 'MANOA LYON ARBO 785.2, HI US', 21.3331, -157.8025, 152.4, 2.46)\n",
      "('USC00516128', 'WAIKIKI 717.2, HI US', 21.2716, -157.8168, 3.0, 1.35)\n",
      "('USC00516128', 'KANEOHE 838.1, HI US', 21.4234, -157.8015, 14.6, 1.35)\n",
      "('USC00516128', 'KUALOA RANCH HEADQUARTERS 886.9, HI US', 21.5213, -157.8374, 7.0, 1.35)\n",
      "('USC00516128', 'PEARL CITY, HI US', 21.3934, -157.9751, 11.9, 1.35)\n",
      "('USC00516128', 'UPPER WAHIAWA 874.3, HI US', 21.4992, -158.0111, 306.6, 1.35)\n",
      "('USC00516128', 'WAIMANALO EXPERIMENTAL FARM, HI US', 21.33556, -157.71139, 19.5, 1.35)\n",
      "('USC00516128', 'WAIHEE 837.5, HI US', 21.45167, -157.84888999999998, 32.9, 1.35)\n",
      "('USC00516128', 'HONOLULU OBSERVATORY 702.2, HI US', 21.3152, -157.9992, 0.9, 1.35)\n",
      "('USC00516128', 'MANOA LYON ARBO 785.2, HI US', 21.3331, -157.8025, 152.4, 1.35)\n",
      "('USC00516128', 'WAIKIKI 717.2, HI US', 21.2716, -157.8168, 3.0, 1.0)\n",
      "('USC00516128', 'KANEOHE 838.1, HI US', 21.4234, -157.8015, 14.6, 1.0)\n",
      "('USC00516128', 'KUALOA RANCH HEADQUARTERS 886.9, HI US', 21.5213, -157.8374, 7.0, 1.0)\n",
      "('USC00516128', 'PEARL CITY, HI US', 21.3934, -157.9751, 11.9, 1.0)\n",
      "('USC00516128', 'UPPER WAHIAWA 874.3, HI US', 21.4992, -158.0111, 306.6, 1.0)\n",
      "('USC00516128', 'WAIMANALO EXPERIMENTAL FARM, HI US', 21.33556, -157.71139, 19.5, 1.0)\n",
      "('USC00516128', 'WAIHEE 837.5, HI US', 21.45167, -157.84888999999998, 32.9, 1.0)\n",
      "('USC00516128', 'HONOLULU OBSERVATORY 702.2, HI US', 21.3152, -157.9992, 0.9, 1.0)\n",
      "('USC00516128', 'MANOA LYON ARBO 785.2, HI US', 21.3331, -157.8025, 152.4, 1.0)\n",
      "('USC00516128', 'WAIKIKI 717.2, HI US', 21.2716, -157.8168, 3.0, 1.0)\n",
      "('USC00516128', 'KANEOHE 838.1, HI US', 21.4234, -157.8015, 14.6, 1.0)\n",
      "('USC00516128', 'KUALOA RANCH HEADQUARTERS 886.9, HI US', 21.5213, -157.8374, 7.0, 1.0)\n",
      "('USC00516128', 'PEARL CITY, HI US', 21.3934, -157.9751, 11.9, 1.0)\n",
      "('USC00516128', 'UPPER WAHIAWA 874.3, HI US', 21.4992, -158.0111, 306.6, 1.0)\n",
      "('USC00516128', 'WAIMANALO EXPERIMENTAL FARM, HI US', 21.33556, -157.71139, 19.5, 1.0)\n",
      "('USC00516128', 'WAIHEE 837.5, HI US', 21.45167, -157.84888999999998, 32.9, 1.0)\n",
      "('USC00516128', 'HONOLULU OBSERVATORY 702.2, HI US', 21.3152, -157.9992, 0.9, 1.0)\n",
      "('USC00516128', 'MANOA LYON ARBO 785.2, HI US', 21.3331, -157.8025, 152.4, 1.0)\n",
      "('USC00519523', 'WAIKIKI 717.2, HI US', 21.2716, -157.8168, 3.0, 0.74)\n",
      "('USC00519523', 'KANEOHE 838.1, HI US', 21.4234, -157.8015, 14.6, 0.74)\n",
      "('USC00519523', 'KUALOA RANCH HEADQUARTERS 886.9, HI US', 21.5213, -157.8374, 7.0, 0.74)\n",
      "('USC00519523', 'PEARL CITY, HI US', 21.3934, -157.9751, 11.9, 0.74)\n",
      "('USC00519523', 'UPPER WAHIAWA 874.3, HI US', 21.4992, -158.0111, 306.6, 0.74)\n",
      "('USC00519523', 'WAIMANALO EXPERIMENTAL FARM, HI US', 21.33556, -157.71139, 19.5, 0.74)\n",
      "('USC00519523', 'WAIHEE 837.5, HI US', 21.45167, -157.84888999999998, 32.9, 0.74)\n",
      "('USC00519523', 'HONOLULU OBSERVATORY 702.2, HI US', 21.3152, -157.9992, 0.9, 0.74)\n",
      "('USC00519523', 'MANOA LYON ARBO 785.2, HI US', 21.3331, -157.8025, 152.4, 0.74)\n",
      "('USC00516128', 'WAIKIKI 717.2, HI US', 21.2716, -157.8168, 3.0, 0.44)\n",
      "('USC00516128', 'KANEOHE 838.1, HI US', 21.4234, -157.8015, 14.6, 0.44)\n",
      "('USC00516128', 'KUALOA RANCH HEADQUARTERS 886.9, HI US', 21.5213, -157.8374, 7.0, 0.44)\n",
      "('USC00516128', 'PEARL CITY, HI US', 21.3934, -157.9751, 11.9, 0.44)\n",
      "('USC00516128', 'UPPER WAHIAWA 874.3, HI US', 21.4992, -158.0111, 306.6, 0.44)\n",
      "('USC00516128', 'WAIMANALO EXPERIMENTAL FARM, HI US', 21.33556, -157.71139, 19.5, 0.44)\n",
      "('USC00516128', 'WAIHEE 837.5, HI US', 21.45167, -157.84888999999998, 32.9, 0.44)\n",
      "('USC00516128', 'HONOLULU OBSERVATORY 702.2, HI US', 21.3152, -157.9992, 0.9, 0.44)\n",
      "('USC00516128', 'MANOA LYON ARBO 785.2, HI US', 21.3331, -157.8025, 152.4, 0.44)\n",
      "('USC00519523', 'WAIKIKI 717.2, HI US', 21.2716, -157.8168, 3.0, 0.25)\n",
      "('USC00519523', 'KANEOHE 838.1, HI US', 21.4234, -157.8015, 14.6, 0.25)\n",
      "('USC00519523', 'KUALOA RANCH HEADQUARTERS 886.9, HI US', 21.5213, -157.8374, 7.0, 0.25)\n",
      "('USC00519523', 'PEARL CITY, HI US', 21.3934, -157.9751, 11.9, 0.25)\n",
      "('USC00519523', 'UPPER WAHIAWA 874.3, HI US', 21.4992, -158.0111, 306.6, 0.25)\n",
      "('USC00519523', 'WAIMANALO EXPERIMENTAL FARM, HI US', 21.33556, -157.71139, 19.5, 0.25)\n",
      "('USC00519523', 'WAIHEE 837.5, HI US', 21.45167, -157.84888999999998, 32.9, 0.25)\n",
      "('USC00519523', 'HONOLULU OBSERVATORY 702.2, HI US', 21.3152, -157.9992, 0.9, 0.25)\n",
      "('USC00519523', 'MANOA LYON ARBO 785.2, HI US', 21.3331, -157.8025, 152.4, 0.25)\n",
      "('USC00519281', 'WAIKIKI 717.2, HI US', 21.2716, -157.8168, 3.0, 0.24)\n",
      "('USC00519281', 'KANEOHE 838.1, HI US', 21.4234, -157.8015, 14.6, 0.24)\n",
      "('USC00519281', 'KUALOA RANCH HEADQUARTERS 886.9, HI US', 21.5213, -157.8374, 7.0, 0.24)\n",
      "('USC00519281', 'PEARL CITY, HI US', 21.3934, -157.9751, 11.9, 0.24)\n",
      "('USC00519281', 'UPPER WAHIAWA 874.3, HI US', 21.4992, -158.0111, 306.6, 0.24)\n",
      "('USC00519281', 'WAIMANALO EXPERIMENTAL FARM, HI US', 21.33556, -157.71139, 19.5, 0.24)\n",
      "('USC00519281', 'WAIHEE 837.5, HI US', 21.45167, -157.84888999999998, 32.9, 0.24)\n",
      "('USC00519281', 'HONOLULU OBSERVATORY 702.2, HI US', 21.3152, -157.9992, 0.9, 0.24)\n",
      "('USC00519281', 'MANOA LYON ARBO 785.2, HI US', 21.3331, -157.8025, 152.4, 0.24)\n",
      "('USC00514830', 'WAIKIKI 717.2, HI US', 21.2716, -157.8168, 3.0, 0.23)\n",
      "('USC00514830', 'KANEOHE 838.1, HI US', 21.4234, -157.8015, 14.6, 0.23)\n",
      "('USC00514830', 'KUALOA RANCH HEADQUARTERS 886.9, HI US', 21.5213, -157.8374, 7.0, 0.23)\n",
      "('USC00514830', 'PEARL CITY, HI US', 21.3934, -157.9751, 11.9, 0.23)\n",
      "('USC00514830', 'UPPER WAHIAWA 874.3, HI US', 21.4992, -158.0111, 306.6, 0.23)\n",
      "('USC00514830', 'WAIMANALO EXPERIMENTAL FARM, HI US', 21.33556, -157.71139, 19.5, 0.23)\n",
      "('USC00514830', 'WAIHEE 837.5, HI US', 21.45167, -157.84888999999998, 32.9, 0.23)\n",
      "('USC00514830', 'HONOLULU OBSERVATORY 702.2, HI US', 21.3152, -157.9992, 0.9, 0.23)\n",
      "('USC00514830', 'MANOA LYON ARBO 785.2, HI US', 21.3331, -157.8025, 152.4, 0.23)\n",
      "('USC00514830', 'WAIKIKI 717.2, HI US', 21.2716, -157.8168, 3.0, 0.19)\n",
      "('USC00514830', 'KANEOHE 838.1, HI US', 21.4234, -157.8015, 14.6, 0.19)\n",
      "('USC00514830', 'KUALOA RANCH HEADQUARTERS 886.9, HI US', 21.5213, -157.8374, 7.0, 0.19)\n",
      "('USC00514830', 'PEARL CITY, HI US', 21.3934, -157.9751, 11.9, 0.19)\n",
      "('USC00514830', 'UPPER WAHIAWA 874.3, HI US', 21.4992, -158.0111, 306.6, 0.19)\n",
      "('USC00514830', 'WAIMANALO EXPERIMENTAL FARM, HI US', 21.33556, -157.71139, 19.5, 0.19)\n",
      "('USC00514830', 'WAIHEE 837.5, HI US', 21.45167, -157.84888999999998, 32.9, 0.19)\n",
      "('USC00514830', 'HONOLULU OBSERVATORY 702.2, HI US', 21.3152, -157.9992, 0.9, 0.19)\n",
      "('USC00514830', 'MANOA LYON ARBO 785.2, HI US', 21.3331, -157.8025, 152.4, 0.19)\n",
      "('USC00516128', 'WAIKIKI 717.2, HI US', 21.2716, -157.8168, 3.0, 0.18)\n",
      "('USC00516128', 'KANEOHE 838.1, HI US', 21.4234, -157.8015, 14.6, 0.18)\n",
      "('USC00516128', 'KUALOA RANCH HEADQUARTERS 886.9, HI US', 21.5213, -157.8374, 7.0, 0.18)\n",
      "('USC00516128', 'PEARL CITY, HI US', 21.3934, -157.9751, 11.9, 0.18)\n",
      "('USC00516128', 'UPPER WAHIAWA 874.3, HI US', 21.4992, -158.0111, 306.6, 0.18)\n",
      "('USC00516128', 'WAIMANALO EXPERIMENTAL FARM, HI US', 21.33556, -157.71139, 19.5, 0.18)\n",
      "('USC00516128', 'WAIHEE 837.5, HI US', 21.45167, -157.84888999999998, 32.9, 0.18)\n",
      "('USC00516128', 'HONOLULU OBSERVATORY 702.2, HI US', 21.3152, -157.9992, 0.9, 0.18)\n",
      "('USC00516128', 'MANOA LYON ARBO 785.2, HI US', 21.3331, -157.8025, 152.4, 0.18)\n",
      "('USC00519281', 'WAIKIKI 717.2, HI US', 21.2716, -157.8168, 3.0, 0.16)\n",
      "('USC00519281', 'KANEOHE 838.1, HI US', 21.4234, -157.8015, 14.6, 0.16)\n",
      "('USC00519281', 'KUALOA RANCH HEADQUARTERS 886.9, HI US', 21.5213, -157.8374, 7.0, 0.16)\n",
      "('USC00519281', 'PEARL CITY, HI US', 21.3934, -157.9751, 11.9, 0.16)\n",
      "('USC00519281', 'UPPER WAHIAWA 874.3, HI US', 21.4992, -158.0111, 306.6, 0.16)\n",
      "('USC00519281', 'WAIMANALO EXPERIMENTAL FARM, HI US', 21.33556, -157.71139, 19.5, 0.16)\n",
      "('USC00519281', 'WAIHEE 837.5, HI US', 21.45167, -157.84888999999998, 32.9, 0.16)\n",
      "('USC00519281', 'HONOLULU OBSERVATORY 702.2, HI US', 21.3152, -157.9992, 0.9, 0.16)\n",
      "('USC00519281', 'MANOA LYON ARBO 785.2, HI US', 21.3331, -157.8025, 152.4, 0.16)\n",
      "('USC00519281', 'WAIKIKI 717.2, HI US', 21.2716, -157.8168, 3.0, 0.14)\n",
      "('USC00519281', 'KANEOHE 838.1, HI US', 21.4234, -157.8015, 14.6, 0.14)\n",
      "('USC00519281', 'KUALOA RANCH HEADQUARTERS 886.9, HI US', 21.5213, -157.8374, 7.0, 0.14)\n",
      "('USC00519281', 'PEARL CITY, HI US', 21.3934, -157.9751, 11.9, 0.14)\n",
      "('USC00519281', 'UPPER WAHIAWA 874.3, HI US', 21.4992, -158.0111, 306.6, 0.14)\n",
      "('USC00519281', 'WAIMANALO EXPERIMENTAL FARM, HI US', 21.33556, -157.71139, 19.5, 0.14)\n",
      "('USC00519281', 'WAIHEE 837.5, HI US', 21.45167, -157.84888999999998, 32.9, 0.14)\n",
      "('USC00519281', 'HONOLULU OBSERVATORY 702.2, HI US', 21.3152, -157.9992, 0.9, 0.14)\n",
      "('USC00519281', 'MANOA LYON ARBO 785.2, HI US', 21.3331, -157.8025, 152.4, 0.14)\n",
      "('USC00519397', 'WAIKIKI 717.2, HI US', 21.2716, -157.8168, 3.0, 0.13)\n",
      "('USC00519397', 'KANEOHE 838.1, HI US', 21.4234, -157.8015, 14.6, 0.13)\n",
      "('USC00519397', 'KUALOA RANCH HEADQUARTERS 886.9, HI US', 21.5213, -157.8374, 7.0, 0.13)\n",
      "('USC00519397', 'PEARL CITY, HI US', 21.3934, -157.9751, 11.9, 0.13)\n",
      "('USC00519397', 'UPPER WAHIAWA 874.3, HI US', 21.4992, -158.0111, 306.6, 0.13)\n",
      "('USC00519397', 'WAIMANALO EXPERIMENTAL FARM, HI US', 21.33556, -157.71139, 19.5, 0.13)\n",
      "('USC00519397', 'WAIHEE 837.5, HI US', 21.45167, -157.84888999999998, 32.9, 0.13)\n",
      "('USC00519397', 'HONOLULU OBSERVATORY 702.2, HI US', 21.3152, -157.9992, 0.9, 0.13)\n",
      "('USC00519397', 'MANOA LYON ARBO 785.2, HI US', 21.3331, -157.8025, 152.4, 0.13)\n",
      "('USC00519281', 'WAIKIKI 717.2, HI US', 21.2716, -157.8168, 3.0, 0.12)\n",
      "('USC00519281', 'KANEOHE 838.1, HI US', 21.4234, -157.8015, 14.6, 0.12)\n",
      "('USC00519281', 'KUALOA RANCH HEADQUARTERS 886.9, HI US', 21.5213, -157.8374, 7.0, 0.12)\n",
      "('USC00519281', 'PEARL CITY, HI US', 21.3934, -157.9751, 11.9, 0.12)\n",
      "('USC00519281', 'UPPER WAHIAWA 874.3, HI US', 21.4992, -158.0111, 306.6, 0.12)\n",
      "('USC00519281', 'WAIMANALO EXPERIMENTAL FARM, HI US', 21.33556, -157.71139, 19.5, 0.12)\n",
      "('USC00519281', 'WAIHEE 837.5, HI US', 21.45167, -157.84888999999998, 32.9, 0.12)\n",
      "('USC00519281', 'HONOLULU OBSERVATORY 702.2, HI US', 21.3152, -157.9992, 0.9, 0.12)\n",
      "('USC00519281', 'MANOA LYON ARBO 785.2, HI US', 21.3331, -157.8025, 152.4, 0.12)\n",
      "('USC00513117', 'WAIKIKI 717.2, HI US', 21.2716, -157.8168, 3.0, 0.11)\n",
      "('USC00513117', 'KANEOHE 838.1, HI US', 21.4234, -157.8015, 14.6, 0.11)\n",
      "('USC00513117', 'KUALOA RANCH HEADQUARTERS 886.9, HI US', 21.5213, -157.8374, 7.0, 0.11)\n",
      "('USC00513117', 'PEARL CITY, HI US', 21.3934, -157.9751, 11.9, 0.11)\n",
      "('USC00513117', 'UPPER WAHIAWA 874.3, HI US', 21.4992, -158.0111, 306.6, 0.11)\n",
      "('USC00513117', 'WAIMANALO EXPERIMENTAL FARM, HI US', 21.33556, -157.71139, 19.5, 0.11)\n",
      "('USC00513117', 'WAIHEE 837.5, HI US', 21.45167, -157.84888999999998, 32.9, 0.11)\n",
      "('USC00513117', 'HONOLULU OBSERVATORY 702.2, HI US', 21.3152, -157.9992, 0.9, 0.11)\n",
      "('USC00513117', 'MANOA LYON ARBO 785.2, HI US', 21.3331, -157.8025, 152.4, 0.11)\n",
      "('USC00519523', 'WAIKIKI 717.2, HI US', 21.2716, -157.8168, 3.0, 0.11)\n",
      "('USC00519523', 'KANEOHE 838.1, HI US', 21.4234, -157.8015, 14.6, 0.11)\n",
      "('USC00519523', 'KUALOA RANCH HEADQUARTERS 886.9, HI US', 21.5213, -157.8374, 7.0, 0.11)\n",
      "('USC00519523', 'PEARL CITY, HI US', 21.3934, -157.9751, 11.9, 0.11)\n",
      "('USC00519523', 'UPPER WAHIAWA 874.3, HI US', 21.4992, -158.0111, 306.6, 0.11)\n",
      "('USC00519523', 'WAIMANALO EXPERIMENTAL FARM, HI US', 21.33556, -157.71139, 19.5, 0.11)\n",
      "('USC00519523', 'WAIHEE 837.5, HI US', 21.45167, -157.84888999999998, 32.9, 0.11)\n",
      "('USC00519523', 'HONOLULU OBSERVATORY 702.2, HI US', 21.3152, -157.9992, 0.9, 0.11)\n",
      "('USC00519523', 'MANOA LYON ARBO 785.2, HI US', 21.3331, -157.8025, 152.4, 0.11)\n",
      "('USC00519281', 'WAIKIKI 717.2, HI US', 21.2716, -157.8168, 3.0, 0.11)\n",
      "('USC00519281', 'KANEOHE 838.1, HI US', 21.4234, -157.8015, 14.6, 0.11)\n",
      "('USC00519281', 'KUALOA RANCH HEADQUARTERS 886.9, HI US', 21.5213, -157.8374, 7.0, 0.11)\n",
      "('USC00519281', 'PEARL CITY, HI US', 21.3934, -157.9751, 11.9, 0.11)\n",
      "('USC00519281', 'UPPER WAHIAWA 874.3, HI US', 21.4992, -158.0111, 306.6, 0.11)\n",
      "('USC00519281', 'WAIMANALO EXPERIMENTAL FARM, HI US', 21.33556, -157.71139, 19.5, 0.11)\n",
      "('USC00519281', 'WAIHEE 837.5, HI US', 21.45167, -157.84888999999998, 32.9, 0.11)\n",
      "('USC00519281', 'HONOLULU OBSERVATORY 702.2, HI US', 21.3152, -157.9992, 0.9, 0.11)\n",
      "('USC00519281', 'MANOA LYON ARBO 785.2, HI US', 21.3331, -157.8025, 152.4, 0.11)\n",
      "('USC00513117', 'WAIKIKI 717.2, HI US', 21.2716, -157.8168, 3.0, 0.1)\n",
      "('USC00513117', 'KANEOHE 838.1, HI US', 21.4234, -157.8015, 14.6, 0.1)\n",
      "('USC00513117', 'KUALOA RANCH HEADQUARTERS 886.9, HI US', 21.5213, -157.8374, 7.0, 0.1)\n",
      "('USC00513117', 'PEARL CITY, HI US', 21.3934, -157.9751, 11.9, 0.1)\n",
      "('USC00513117', 'UPPER WAHIAWA 874.3, HI US', 21.4992, -158.0111, 306.6, 0.1)\n",
      "('USC00513117', 'WAIMANALO EXPERIMENTAL FARM, HI US', 21.33556, -157.71139, 19.5, 0.1)\n",
      "('USC00513117', 'WAIHEE 837.5, HI US', 21.45167, -157.84888999999998, 32.9, 0.1)\n",
      "('USC00513117', 'HONOLULU OBSERVATORY 702.2, HI US', 21.3152, -157.9992, 0.9, 0.1)\n",
      "('USC00513117', 'MANOA LYON ARBO 785.2, HI US', 21.3331, -157.8025, 152.4, 0.1)\n",
      "('USC00513117', 'WAIKIKI 717.2, HI US', 21.2716, -157.8168, 3.0, 0.1)\n",
      "('USC00513117', 'KANEOHE 838.1, HI US', 21.4234, -157.8015, 14.6, 0.1)\n",
      "('USC00513117', 'KUALOA RANCH HEADQUARTERS 886.9, HI US', 21.5213, -157.8374, 7.0, 0.1)\n",
      "('USC00513117', 'PEARL CITY, HI US', 21.3934, -157.9751, 11.9, 0.1)\n",
      "('USC00513117', 'UPPER WAHIAWA 874.3, HI US', 21.4992, -158.0111, 306.6, 0.1)\n",
      "('USC00513117', 'WAIMANALO EXPERIMENTAL FARM, HI US', 21.33556, -157.71139, 19.5, 0.1)\n",
      "('USC00513117', 'WAIHEE 837.5, HI US', 21.45167, -157.84888999999998, 32.9, 0.1)\n",
      "('USC00513117', 'HONOLULU OBSERVATORY 702.2, HI US', 21.3152, -157.9992, 0.9, 0.1)\n",
      "('USC00513117', 'MANOA LYON ARBO 785.2, HI US', 21.3331, -157.8025, 152.4, 0.1)\n",
      "('USC00519523', 'WAIKIKI 717.2, HI US', 21.2716, -157.8168, 3.0, 0.08)\n",
      "('USC00519523', 'KANEOHE 838.1, HI US', 21.4234, -157.8015, 14.6, 0.08)\n",
      "('USC00519523', 'KUALOA RANCH HEADQUARTERS 886.9, HI US', 21.5213, -157.8374, 7.0, 0.08)\n",
      "('USC00519523', 'PEARL CITY, HI US', 21.3934, -157.9751, 11.9, 0.08)\n",
      "('USC00519523', 'UPPER WAHIAWA 874.3, HI US', 21.4992, -158.0111, 306.6, 0.08)\n",
      "('USC00519523', 'WAIMANALO EXPERIMENTAL FARM, HI US', 21.33556, -157.71139, 19.5, 0.08)\n",
      "('USC00519523', 'WAIHEE 837.5, HI US', 21.45167, -157.84888999999998, 32.9, 0.08)\n",
      "('USC00519523', 'HONOLULU OBSERVATORY 702.2, HI US', 21.3152, -157.9992, 0.9, 0.08)\n",
      "('USC00519523', 'MANOA LYON ARBO 785.2, HI US', 21.3331, -157.8025, 152.4, 0.08)\n",
      "('USC00513117', 'WAIKIKI 717.2, HI US', 21.2716, -157.8168, 3.0, 0.07)\n",
      "('USC00513117', 'KANEOHE 838.1, HI US', 21.4234, -157.8015, 14.6, 0.07)\n",
      "('USC00513117', 'KUALOA RANCH HEADQUARTERS 886.9, HI US', 21.5213, -157.8374, 7.0, 0.07)\n",
      "('USC00513117', 'PEARL CITY, HI US', 21.3934, -157.9751, 11.9, 0.07)\n",
      "('USC00513117', 'UPPER WAHIAWA 874.3, HI US', 21.4992, -158.0111, 306.6, 0.07)\n",
      "('USC00513117', 'WAIMANALO EXPERIMENTAL FARM, HI US', 21.33556, -157.71139, 19.5, 0.07)\n",
      "('USC00513117', 'WAIHEE 837.5, HI US', 21.45167, -157.84888999999998, 32.9, 0.07)\n",
      "('USC00513117', 'HONOLULU OBSERVATORY 702.2, HI US', 21.3152, -157.9992, 0.9, 0.07)\n",
      "('USC00513117', 'MANOA LYON ARBO 785.2, HI US', 21.3331, -157.8025, 152.4, 0.07)\n",
      "('USC00519397', 'WAIKIKI 717.2, HI US', 21.2716, -157.8168, 3.0, 0.05)\n",
      "('USC00519397', 'KANEOHE 838.1, HI US', 21.4234, -157.8015, 14.6, 0.05)\n",
      "('USC00519397', 'KUALOA RANCH HEADQUARTERS 886.9, HI US', 21.5213, -157.8374, 7.0, 0.05)\n",
      "('USC00519397', 'PEARL CITY, HI US', 21.3934, -157.9751, 11.9, 0.05)\n",
      "('USC00519397', 'UPPER WAHIAWA 874.3, HI US', 21.4992, -158.0111, 306.6, 0.05)\n",
      "('USC00519397', 'WAIMANALO EXPERIMENTAL FARM, HI US', 21.33556, -157.71139, 19.5, 0.05)\n",
      "('USC00519397', 'WAIHEE 837.5, HI US', 21.45167, -157.84888999999998, 32.9, 0.05)\n",
      "('USC00519397', 'HONOLULU OBSERVATORY 702.2, HI US', 21.3152, -157.9992, 0.9, 0.05)\n",
      "('USC00519397', 'MANOA LYON ARBO 785.2, HI US', 21.3331, -157.8025, 152.4, 0.05)\n",
      "('USC00513117', 'WAIKIKI 717.2, HI US', 21.2716, -157.8168, 3.0, 0.05)\n",
      "('USC00513117', 'KANEOHE 838.1, HI US', 21.4234, -157.8015, 14.6, 0.05)\n",
      "('USC00513117', 'KUALOA RANCH HEADQUARTERS 886.9, HI US', 21.5213, -157.8374, 7.0, 0.05)\n",
      "('USC00513117', 'PEARL CITY, HI US', 21.3934, -157.9751, 11.9, 0.05)\n",
      "('USC00513117', 'UPPER WAHIAWA 874.3, HI US', 21.4992, -158.0111, 306.6, 0.05)\n",
      "('USC00513117', 'WAIMANALO EXPERIMENTAL FARM, HI US', 21.33556, -157.71139, 19.5, 0.05)\n",
      "('USC00513117', 'WAIHEE 837.5, HI US', 21.45167, -157.84888999999998, 32.9, 0.05)\n",
      "('USC00513117', 'HONOLULU OBSERVATORY 702.2, HI US', 21.3152, -157.9992, 0.9, 0.05)\n",
      "('USC00513117', 'MANOA LYON ARBO 785.2, HI US', 21.3331, -157.8025, 152.4, 0.05)\n",
      "('USC00514830', 'WAIKIKI 717.2, HI US', 21.2716, -157.8168, 3.0, 0.04)\n",
      "('USC00514830', 'KANEOHE 838.1, HI US', 21.4234, -157.8015, 14.6, 0.04)\n",
      "('USC00514830', 'KUALOA RANCH HEADQUARTERS 886.9, HI US', 21.5213, -157.8374, 7.0, 0.04)\n",
      "('USC00514830', 'PEARL CITY, HI US', 21.3934, -157.9751, 11.9, 0.04)\n",
      "('USC00514830', 'UPPER WAHIAWA 874.3, HI US', 21.4992, -158.0111, 306.6, 0.04)\n",
      "('USC00514830', 'WAIMANALO EXPERIMENTAL FARM, HI US', 21.33556, -157.71139, 19.5, 0.04)\n",
      "('USC00514830', 'WAIHEE 837.5, HI US', 21.45167, -157.84888999999998, 32.9, 0.04)\n",
      "('USC00514830', 'HONOLULU OBSERVATORY 702.2, HI US', 21.3152, -157.9992, 0.9, 0.04)\n",
      "('USC00514830', 'MANOA LYON ARBO 785.2, HI US', 21.3331, -157.8025, 152.4, 0.04)\n",
      "('USC00519397', 'WAIKIKI 717.2, HI US', 21.2716, -157.8168, 3.0, 0.03)\n",
      "('USC00519397', 'KANEOHE 838.1, HI US', 21.4234, -157.8015, 14.6, 0.03)\n",
      "('USC00519397', 'KUALOA RANCH HEADQUARTERS 886.9, HI US', 21.5213, -157.8374, 7.0, 0.03)\n",
      "('USC00519397', 'PEARL CITY, HI US', 21.3934, -157.9751, 11.9, 0.03)\n",
      "('USC00519397', 'UPPER WAHIAWA 874.3, HI US', 21.4992, -158.0111, 306.6, 0.03)\n",
      "('USC00519397', 'WAIMANALO EXPERIMENTAL FARM, HI US', 21.33556, -157.71139, 19.5, 0.03)\n",
      "('USC00519397', 'WAIHEE 837.5, HI US', 21.45167, -157.84888999999998, 32.9, 0.03)\n",
      "('USC00519397', 'HONOLULU OBSERVATORY 702.2, HI US', 21.3152, -157.9992, 0.9, 0.03)\n",
      "('USC00519397', 'MANOA LYON ARBO 785.2, HI US', 21.3331, -157.8025, 152.4, 0.03)\n",
      "('USC00513117', 'WAIKIKI 717.2, HI US', 21.2716, -157.8168, 3.0, 0.03)\n",
      "('USC00513117', 'KANEOHE 838.1, HI US', 21.4234, -157.8015, 14.6, 0.03)\n",
      "('USC00513117', 'KUALOA RANCH HEADQUARTERS 886.9, HI US', 21.5213, -157.8374, 7.0, 0.03)\n",
      "('USC00513117', 'PEARL CITY, HI US', 21.3934, -157.9751, 11.9, 0.03)\n",
      "('USC00513117', 'UPPER WAHIAWA 874.3, HI US', 21.4992, -158.0111, 306.6, 0.03)\n",
      "('USC00513117', 'WAIMANALO EXPERIMENTAL FARM, HI US', 21.33556, -157.71139, 19.5, 0.03)\n",
      "('USC00513117', 'WAIHEE 837.5, HI US', 21.45167, -157.84888999999998, 32.9, 0.03)\n",
      "('USC00513117', 'HONOLULU OBSERVATORY 702.2, HI US', 21.3152, -157.9992, 0.9, 0.03)\n",
      "('USC00513117', 'MANOA LYON ARBO 785.2, HI US', 21.3331, -157.8025, 152.4, 0.03)\n",
      "('USC00519523', 'WAIKIKI 717.2, HI US', 21.2716, -157.8168, 3.0, 0.03)\n",
      "('USC00519523', 'KANEOHE 838.1, HI US', 21.4234, -157.8015, 14.6, 0.03)\n",
      "('USC00519523', 'KUALOA RANCH HEADQUARTERS 886.9, HI US', 21.5213, -157.8374, 7.0, 0.03)\n",
      "('USC00519523', 'PEARL CITY, HI US', 21.3934, -157.9751, 11.9, 0.03)\n",
      "('USC00519523', 'UPPER WAHIAWA 874.3, HI US', 21.4992, -158.0111, 306.6, 0.03)\n",
      "('USC00519523', 'WAIMANALO EXPERIMENTAL FARM, HI US', 21.33556, -157.71139, 19.5, 0.03)\n",
      "('USC00519523', 'WAIHEE 837.5, HI US', 21.45167, -157.84888999999998, 32.9, 0.03)\n",
      "('USC00519523', 'HONOLULU OBSERVATORY 702.2, HI US', 21.3152, -157.9992, 0.9, 0.03)\n",
      "('USC00519523', 'MANOA LYON ARBO 785.2, HI US', 21.3331, -157.8025, 152.4, 0.03)\n",
      "('USC00519281', 'WAIKIKI 717.2, HI US', 21.2716, -157.8168, 3.0, 0.03)\n",
      "('USC00519281', 'KANEOHE 838.1, HI US', 21.4234, -157.8015, 14.6, 0.03)\n",
      "('USC00519281', 'KUALOA RANCH HEADQUARTERS 886.9, HI US', 21.5213, -157.8374, 7.0, 0.03)\n",
      "('USC00519281', 'PEARL CITY, HI US', 21.3934, -157.9751, 11.9, 0.03)\n",
      "('USC00519281', 'UPPER WAHIAWA 874.3, HI US', 21.4992, -158.0111, 306.6, 0.03)\n",
      "('USC00519281', 'WAIMANALO EXPERIMENTAL FARM, HI US', 21.33556, -157.71139, 19.5, 0.03)\n",
      "('USC00519281', 'WAIHEE 837.5, HI US', 21.45167, -157.84888999999998, 32.9, 0.03)\n",
      "('USC00519281', 'HONOLULU OBSERVATORY 702.2, HI US', 21.3152, -157.9992, 0.9, 0.03)\n",
      "('USC00519281', 'MANOA LYON ARBO 785.2, HI US', 21.3331, -157.8025, 152.4, 0.03)\n",
      "('USC00516128', 'WAIKIKI 717.2, HI US', 21.2716, -157.8168, 3.0, 0.03)\n",
      "('USC00516128', 'KANEOHE 838.1, HI US', 21.4234, -157.8015, 14.6, 0.03)\n",
      "('USC00516128', 'KUALOA RANCH HEADQUARTERS 886.9, HI US', 21.5213, -157.8374, 7.0, 0.03)\n",
      "('USC00516128', 'PEARL CITY, HI US', 21.3934, -157.9751, 11.9, 0.03)\n",
      "('USC00516128', 'UPPER WAHIAWA 874.3, HI US', 21.4992, -158.0111, 306.6, 0.03)\n",
      "('USC00516128', 'WAIMANALO EXPERIMENTAL FARM, HI US', 21.33556, -157.71139, 19.5, 0.03)\n",
      "('USC00516128', 'WAIHEE 837.5, HI US', 21.45167, -157.84888999999998, 32.9, 0.03)\n",
      "('USC00516128', 'HONOLULU OBSERVATORY 702.2, HI US', 21.3152, -157.9992, 0.9, 0.03)\n",
      "('USC00516128', 'MANOA LYON ARBO 785.2, HI US', 21.3331, -157.8025, 152.4, 0.03)\n",
      "('USC00513117', 'WAIKIKI 717.2, HI US', 21.2716, -157.8168, 3.0, 0.02)\n",
      "('USC00513117', 'KANEOHE 838.1, HI US', 21.4234, -157.8015, 14.6, 0.02)\n",
      "('USC00513117', 'KUALOA RANCH HEADQUARTERS 886.9, HI US', 21.5213, -157.8374, 7.0, 0.02)\n",
      "('USC00513117', 'PEARL CITY, HI US', 21.3934, -157.9751, 11.9, 0.02)\n",
      "('USC00513117', 'UPPER WAHIAWA 874.3, HI US', 21.4992, -158.0111, 306.6, 0.02)\n",
      "('USC00513117', 'WAIMANALO EXPERIMENTAL FARM, HI US', 21.33556, -157.71139, 19.5, 0.02)\n",
      "('USC00513117', 'WAIHEE 837.5, HI US', 21.45167, -157.84888999999998, 32.9, 0.02)\n",
      "('USC00513117', 'HONOLULU OBSERVATORY 702.2, HI US', 21.3152, -157.9992, 0.9, 0.02)\n",
      "('USC00513117', 'MANOA LYON ARBO 785.2, HI US', 21.3331, -157.8025, 152.4, 0.02)\n",
      "('USC00519523', 'WAIKIKI 717.2, HI US', 21.2716, -157.8168, 3.0, 0.02)\n",
      "('USC00519523', 'KANEOHE 838.1, HI US', 21.4234, -157.8015, 14.6, 0.02)\n",
      "('USC00519523', 'KUALOA RANCH HEADQUARTERS 886.9, HI US', 21.5213, -157.8374, 7.0, 0.02)\n",
      "('USC00519523', 'PEARL CITY, HI US', 21.3934, -157.9751, 11.9, 0.02)\n",
      "('USC00519523', 'UPPER WAHIAWA 874.3, HI US', 21.4992, -158.0111, 306.6, 0.02)\n",
      "('USC00519523', 'WAIMANALO EXPERIMENTAL FARM, HI US', 21.33556, -157.71139, 19.5, 0.02)\n",
      "('USC00519523', 'WAIHEE 837.5, HI US', 21.45167, -157.84888999999998, 32.9, 0.02)\n",
      "('USC00519523', 'HONOLULU OBSERVATORY 702.2, HI US', 21.3152, -157.9992, 0.9, 0.02)\n",
      "('USC00519523', 'MANOA LYON ARBO 785.2, HI US', 21.3331, -157.8025, 152.4, 0.02)\n",
      "('USC00519281', 'WAIKIKI 717.2, HI US', 21.2716, -157.8168, 3.0, 0.02)\n",
      "('USC00519281', 'KANEOHE 838.1, HI US', 21.4234, -157.8015, 14.6, 0.02)\n",
      "('USC00519281', 'KUALOA RANCH HEADQUARTERS 886.9, HI US', 21.5213, -157.8374, 7.0, 0.02)\n",
      "('USC00519281', 'PEARL CITY, HI US', 21.3934, -157.9751, 11.9, 0.02)\n",
      "('USC00519281', 'UPPER WAHIAWA 874.3, HI US', 21.4992, -158.0111, 306.6, 0.02)\n",
      "('USC00519281', 'WAIMANALO EXPERIMENTAL FARM, HI US', 21.33556, -157.71139, 19.5, 0.02)\n",
      "('USC00519281', 'WAIHEE 837.5, HI US', 21.45167, -157.84888999999998, 32.9, 0.02)\n",
      "('USC00519281', 'HONOLULU OBSERVATORY 702.2, HI US', 21.3152, -157.9992, 0.9, 0.02)\n",
      "('USC00519281', 'MANOA LYON ARBO 785.2, HI US', 21.3331, -157.8025, 152.4, 0.02)\n",
      "('USC00519281', 'WAIKIKI 717.2, HI US', 21.2716, -157.8168, 3.0, 0.01)\n",
      "('USC00519281', 'KANEOHE 838.1, HI US', 21.4234, -157.8015, 14.6, 0.01)\n",
      "('USC00519281', 'KUALOA RANCH HEADQUARTERS 886.9, HI US', 21.5213, -157.8374, 7.0, 0.01)\n",
      "('USC00519281', 'PEARL CITY, HI US', 21.3934, -157.9751, 11.9, 0.01)\n",
      "('USC00519281', 'UPPER WAHIAWA 874.3, HI US', 21.4992, -158.0111, 306.6, 0.01)\n",
      "('USC00519281', 'WAIMANALO EXPERIMENTAL FARM, HI US', 21.33556, -157.71139, 19.5, 0.01)\n",
      "('USC00519281', 'WAIHEE 837.5, HI US', 21.45167, -157.84888999999998, 32.9, 0.01)\n",
      "('USC00519281', 'HONOLULU OBSERVATORY 702.2, HI US', 21.3152, -157.9992, 0.9, 0.01)\n",
      "('USC00519281', 'MANOA LYON ARBO 785.2, HI US', 21.3331, -157.8025, 152.4, 0.01)\n",
      "('USC00516128', 'WAIKIKI 717.2, HI US', 21.2716, -157.8168, 3.0, 0.01)\n",
      "('USC00516128', 'KANEOHE 838.1, HI US', 21.4234, -157.8015, 14.6, 0.01)\n",
      "('USC00516128', 'KUALOA RANCH HEADQUARTERS 886.9, HI US', 21.5213, -157.8374, 7.0, 0.01)\n",
      "('USC00516128', 'PEARL CITY, HI US', 21.3934, -157.9751, 11.9, 0.01)\n",
      "('USC00516128', 'UPPER WAHIAWA 874.3, HI US', 21.4992, -158.0111, 306.6, 0.01)\n",
      "('USC00516128', 'WAIMANALO EXPERIMENTAL FARM, HI US', 21.33556, -157.71139, 19.5, 0.01)\n",
      "('USC00516128', 'WAIHEE 837.5, HI US', 21.45167, -157.84888999999998, 32.9, 0.01)\n",
      "('USC00516128', 'HONOLULU OBSERVATORY 702.2, HI US', 21.3152, -157.9992, 0.9, 0.01)\n",
      "('USC00516128', 'MANOA LYON ARBO 785.2, HI US', 21.3331, -157.8025, 152.4, 0.01)\n",
      "('USC00519397', 'WAIKIKI 717.2, HI US', 21.2716, -157.8168, 3.0, 0.0)\n",
      "('USC00519397', 'KANEOHE 838.1, HI US', 21.4234, -157.8015, 14.6, 0.0)\n",
      "('USC00519397', 'KUALOA RANCH HEADQUARTERS 886.9, HI US', 21.5213, -157.8374, 7.0, 0.0)\n",
      "('USC00519397', 'PEARL CITY, HI US', 21.3934, -157.9751, 11.9, 0.0)\n",
      "('USC00519397', 'UPPER WAHIAWA 874.3, HI US', 21.4992, -158.0111, 306.6, 0.0)\n",
      "('USC00519397', 'WAIMANALO EXPERIMENTAL FARM, HI US', 21.33556, -157.71139, 19.5, 0.0)\n",
      "('USC00519397', 'WAIHEE 837.5, HI US', 21.45167, -157.84888999999998, 32.9, 0.0)\n",
      "('USC00519397', 'HONOLULU OBSERVATORY 702.2, HI US', 21.3152, -157.9992, 0.9, 0.0)\n",
      "('USC00519397', 'MANOA LYON ARBO 785.2, HI US', 21.3331, -157.8025, 152.4, 0.0)\n",
      "('USC00519397', 'WAIKIKI 717.2, HI US', 21.2716, -157.8168, 3.0, 0.0)\n",
      "('USC00519397', 'KANEOHE 838.1, HI US', 21.4234, -157.8015, 14.6, 0.0)\n",
      "('USC00519397', 'KUALOA RANCH HEADQUARTERS 886.9, HI US', 21.5213, -157.8374, 7.0, 0.0)\n",
      "('USC00519397', 'PEARL CITY, HI US', 21.3934, -157.9751, 11.9, 0.0)\n",
      "('USC00519397', 'UPPER WAHIAWA 874.3, HI US', 21.4992, -158.0111, 306.6, 0.0)\n",
      "('USC00519397', 'WAIMANALO EXPERIMENTAL FARM, HI US', 21.33556, -157.71139, 19.5, 0.0)\n",
      "('USC00519397', 'WAIHEE 837.5, HI US', 21.45167, -157.84888999999998, 32.9, 0.0)\n",
      "('USC00519397', 'HONOLULU OBSERVATORY 702.2, HI US', 21.3152, -157.9992, 0.9, 0.0)\n",
      "('USC00519397', 'MANOA LYON ARBO 785.2, HI US', 21.3331, -157.8025, 152.4, 0.0)\n",
      "('USC00519397', 'WAIKIKI 717.2, HI US', 21.2716, -157.8168, 3.0, 0.0)\n",
      "('USC00519397', 'KANEOHE 838.1, HI US', 21.4234, -157.8015, 14.6, 0.0)\n",
      "('USC00519397', 'KUALOA RANCH HEADQUARTERS 886.9, HI US', 21.5213, -157.8374, 7.0, 0.0)\n",
      "('USC00519397', 'PEARL CITY, HI US', 21.3934, -157.9751, 11.9, 0.0)\n",
      "('USC00519397', 'UPPER WAHIAWA 874.3, HI US', 21.4992, -158.0111, 306.6, 0.0)\n",
      "('USC00519397', 'WAIMANALO EXPERIMENTAL FARM, HI US', 21.33556, -157.71139, 19.5, 0.0)\n",
      "('USC00519397', 'WAIHEE 837.5, HI US', 21.45167, -157.84888999999998, 32.9, 0.0)\n",
      "('USC00519397', 'HONOLULU OBSERVATORY 702.2, HI US', 21.3152, -157.9992, 0.9, 0.0)\n",
      "('USC00519397', 'MANOA LYON ARBO 785.2, HI US', 21.3331, -157.8025, 152.4, 0.0)\n",
      "('USC00513117', 'WAIKIKI 717.2, HI US', 21.2716, -157.8168, 3.0, 0.0)\n",
      "('USC00513117', 'KANEOHE 838.1, HI US', 21.4234, -157.8015, 14.6, 0.0)\n",
      "('USC00513117', 'KUALOA RANCH HEADQUARTERS 886.9, HI US', 21.5213, -157.8374, 7.0, 0.0)\n",
      "('USC00513117', 'PEARL CITY, HI US', 21.3934, -157.9751, 11.9, 0.0)\n",
      "('USC00513117', 'UPPER WAHIAWA 874.3, HI US', 21.4992, -158.0111, 306.6, 0.0)\n",
      "('USC00513117', 'WAIMANALO EXPERIMENTAL FARM, HI US', 21.33556, -157.71139, 19.5, 0.0)\n",
      "('USC00513117', 'WAIHEE 837.5, HI US', 21.45167, -157.84888999999998, 32.9, 0.0)\n",
      "('USC00513117', 'HONOLULU OBSERVATORY 702.2, HI US', 21.3152, -157.9992, 0.9, 0.0)\n",
      "('USC00513117', 'MANOA LYON ARBO 785.2, HI US', 21.3331, -157.8025, 152.4, 0.0)\n",
      "('USC00514830', 'WAIKIKI 717.2, HI US', 21.2716, -157.8168, 3.0, 0.0)\n",
      "('USC00514830', 'KANEOHE 838.1, HI US', 21.4234, -157.8015, 14.6, 0.0)\n",
      "('USC00514830', 'KUALOA RANCH HEADQUARTERS 886.9, HI US', 21.5213, -157.8374, 7.0, 0.0)\n",
      "('USC00514830', 'PEARL CITY, HI US', 21.3934, -157.9751, 11.9, 0.0)\n",
      "('USC00514830', 'UPPER WAHIAWA 874.3, HI US', 21.4992, -158.0111, 306.6, 0.0)\n",
      "('USC00514830', 'WAIMANALO EXPERIMENTAL FARM, HI US', 21.33556, -157.71139, 19.5, 0.0)\n",
      "('USC00514830', 'WAIHEE 837.5, HI US', 21.45167, -157.84888999999998, 32.9, 0.0)\n",
      "('USC00514830', 'HONOLULU OBSERVATORY 702.2, HI US', 21.3152, -157.9992, 0.9, 0.0)\n",
      "('USC00514830', 'MANOA LYON ARBO 785.2, HI US', 21.3331, -157.8025, 152.4, 0.0)\n",
      "('USC00519397', 'WAIKIKI 717.2, HI US', 21.2716, -157.8168, 3.0, None)\n",
      "('USC00519397', 'KANEOHE 838.1, HI US', 21.4234, -157.8015, 14.6, None)\n",
      "('USC00519397', 'KUALOA RANCH HEADQUARTERS 886.9, HI US', 21.5213, -157.8374, 7.0, None)\n",
      "('USC00519397', 'PEARL CITY, HI US', 21.3934, -157.9751, 11.9, None)\n",
      "('USC00519397', 'UPPER WAHIAWA 874.3, HI US', 21.4992, -158.0111, 306.6, None)\n",
      "('USC00519397', 'WAIMANALO EXPERIMENTAL FARM, HI US', 21.33556, -157.71139, 19.5, None)\n",
      "('USC00519397', 'WAIHEE 837.5, HI US', 21.45167, -157.84888999999998, 32.9, None)\n",
      "('USC00519397', 'HONOLULU OBSERVATORY 702.2, HI US', 21.3152, -157.9992, 0.9, None)\n",
      "('USC00519397', 'MANOA LYON ARBO 785.2, HI US', 21.3331, -157.8025, 152.4, None)\n",
      "('USC00519397', 'WAIKIKI 717.2, HI US', 21.2716, -157.8168, 3.0, None)\n",
      "('USC00519397', 'KANEOHE 838.1, HI US', 21.4234, -157.8015, 14.6, None)\n",
      "('USC00519397', 'KUALOA RANCH HEADQUARTERS 886.9, HI US', 21.5213, -157.8374, 7.0, None)\n",
      "('USC00519397', 'PEARL CITY, HI US', 21.3934, -157.9751, 11.9, None)\n",
      "('USC00519397', 'UPPER WAHIAWA 874.3, HI US', 21.4992, -158.0111, 306.6, None)\n",
      "('USC00519397', 'WAIMANALO EXPERIMENTAL FARM, HI US', 21.33556, -157.71139, 19.5, None)\n",
      "('USC00519397', 'WAIHEE 837.5, HI US', 21.45167, -157.84888999999998, 32.9, None)\n",
      "('USC00519397', 'HONOLULU OBSERVATORY 702.2, HI US', 21.3152, -157.9992, 0.9, None)\n",
      "('USC00519397', 'MANOA LYON ARBO 785.2, HI US', 21.3331, -157.8025, 152.4, None)\n",
      "('USC00514830', 'WAIKIKI 717.2, HI US', 21.2716, -157.8168, 3.0, None)\n",
      "('USC00514830', 'KANEOHE 838.1, HI US', 21.4234, -157.8015, 14.6, None)\n",
      "('USC00514830', 'KUALOA RANCH HEADQUARTERS 886.9, HI US', 21.5213, -157.8374, 7.0, None)\n",
      "('USC00514830', 'PEARL CITY, HI US', 21.3934, -157.9751, 11.9, None)\n",
      "('USC00514830', 'UPPER WAHIAWA 874.3, HI US', 21.4992, -158.0111, 306.6, None)\n",
      "('USC00514830', 'WAIMANALO EXPERIMENTAL FARM, HI US', 21.33556, -157.71139, 19.5, None)\n",
      "('USC00514830', 'WAIHEE 837.5, HI US', 21.45167, -157.84888999999998, 32.9, None)\n",
      "('USC00514830', 'HONOLULU OBSERVATORY 702.2, HI US', 21.3152, -157.9992, 0.9, None)\n",
      "('USC00514830', 'MANOA LYON ARBO 785.2, HI US', 21.3331, -157.8025, 152.4, None)\n",
      "('USC00514830', 'WAIKIKI 717.2, HI US', 21.2716, -157.8168, 3.0, None)\n",
      "('USC00514830', 'KANEOHE 838.1, HI US', 21.4234, -157.8015, 14.6, None)\n",
      "('USC00514830', 'KUALOA RANCH HEADQUARTERS 886.9, HI US', 21.5213, -157.8374, 7.0, None)\n",
      "('USC00514830', 'PEARL CITY, HI US', 21.3934, -157.9751, 11.9, None)\n",
      "('USC00514830', 'UPPER WAHIAWA 874.3, HI US', 21.4992, -158.0111, 306.6, None)\n",
      "('USC00514830', 'WAIMANALO EXPERIMENTAL FARM, HI US', 21.33556, -157.71139, 19.5, None)\n",
      "('USC00514830', 'WAIHEE 837.5, HI US', 21.45167, -157.84888999999998, 32.9, None)\n",
      "('USC00514830', 'HONOLULU OBSERVATORY 702.2, HI US', 21.3152, -157.9992, 0.9, None)\n",
      "('USC00514830', 'MANOA LYON ARBO 785.2, HI US', 21.3331, -157.8025, 152.4, None)\n",
      "('USC00517948', 'WAIKIKI 717.2, HI US', 21.2716, -157.8168, 3.0, None)\n",
      "('USC00517948', 'KANEOHE 838.1, HI US', 21.4234, -157.8015, 14.6, None)\n",
      "('USC00517948', 'KUALOA RANCH HEADQUARTERS 886.9, HI US', 21.5213, -157.8374, 7.0, None)\n",
      "('USC00517948', 'PEARL CITY, HI US', 21.3934, -157.9751, 11.9, None)\n",
      "('USC00517948', 'UPPER WAHIAWA 874.3, HI US', 21.4992, -158.0111, 306.6, None)\n",
      "('USC00517948', 'WAIMANALO EXPERIMENTAL FARM, HI US', 21.33556, -157.71139, 19.5, None)\n",
      "('USC00517948', 'WAIHEE 837.5, HI US', 21.45167, -157.84888999999998, 32.9, None)\n",
      "('USC00517948', 'HONOLULU OBSERVATORY 702.2, HI US', 21.3152, -157.9992, 0.9, None)\n",
      "('USC00517948', 'MANOA LYON ARBO 785.2, HI US', 21.3331, -157.8025, 152.4, None)\n",
      "('USC00517948', 'WAIKIKI 717.2, HI US', 21.2716, -157.8168, 3.0, None)\n",
      "('USC00517948', 'KANEOHE 838.1, HI US', 21.4234, -157.8015, 14.6, None)\n",
      "('USC00517948', 'KUALOA RANCH HEADQUARTERS 886.9, HI US', 21.5213, -157.8374, 7.0, None)\n",
      "('USC00517948', 'PEARL CITY, HI US', 21.3934, -157.9751, 11.9, None)\n",
      "('USC00517948', 'UPPER WAHIAWA 874.3, HI US', 21.4992, -158.0111, 306.6, None)\n",
      "('USC00517948', 'WAIMANALO EXPERIMENTAL FARM, HI US', 21.33556, -157.71139, 19.5, None)\n",
      "('USC00517948', 'WAIHEE 837.5, HI US', 21.45167, -157.84888999999998, 32.9, None)\n",
      "('USC00517948', 'HONOLULU OBSERVATORY 702.2, HI US', 21.3152, -157.9992, 0.9, None)\n",
      "('USC00517948', 'MANOA LYON ARBO 785.2, HI US', 21.3331, -157.8025, 152.4, None)\n",
      "('USC00517948', 'WAIKIKI 717.2, HI US', 21.2716, -157.8168, 3.0, None)\n",
      "('USC00517948', 'KANEOHE 838.1, HI US', 21.4234, -157.8015, 14.6, None)\n",
      "('USC00517948', 'KUALOA RANCH HEADQUARTERS 886.9, HI US', 21.5213, -157.8374, 7.0, None)\n",
      "('USC00517948', 'PEARL CITY, HI US', 21.3934, -157.9751, 11.9, None)\n",
      "('USC00517948', 'UPPER WAHIAWA 874.3, HI US', 21.4992, -158.0111, 306.6, None)\n",
      "('USC00517948', 'WAIMANALO EXPERIMENTAL FARM, HI US', 21.33556, -157.71139, 19.5, None)\n",
      "('USC00517948', 'WAIHEE 837.5, HI US', 21.45167, -157.84888999999998, 32.9, None)\n",
      "('USC00517948', 'HONOLULU OBSERVATORY 702.2, HI US', 21.3152, -157.9992, 0.9, None)\n",
      "('USC00517948', 'MANOA LYON ARBO 785.2, HI US', 21.3331, -157.8025, 152.4, None)\n",
      "('USC00519523', 'WAIKIKI 717.2, HI US', 21.2716, -157.8168, 3.0, None)\n",
      "('USC00519523', 'KANEOHE 838.1, HI US', 21.4234, -157.8015, 14.6, None)\n",
      "('USC00519523', 'KUALOA RANCH HEADQUARTERS 886.9, HI US', 21.5213, -157.8374, 7.0, None)\n",
      "('USC00519523', 'PEARL CITY, HI US', 21.3934, -157.9751, 11.9, None)\n",
      "('USC00519523', 'UPPER WAHIAWA 874.3, HI US', 21.4992, -158.0111, 306.6, None)\n",
      "('USC00519523', 'WAIMANALO EXPERIMENTAL FARM, HI US', 21.33556, -157.71139, 19.5, None)\n",
      "('USC00519523', 'WAIHEE 837.5, HI US', 21.45167, -157.84888999999998, 32.9, None)\n",
      "('USC00519523', 'HONOLULU OBSERVATORY 702.2, HI US', 21.3152, -157.9992, 0.9, None)\n",
      "('USC00519523', 'MANOA LYON ARBO 785.2, HI US', 21.3331, -157.8025, 152.4, None)\n"
     ]
    }
   ],
   "source": [
    "# Calculate the total amount of rainfall per weather station for your trip dates using the previous year's matching dates.\n",
    "# Sort this in descending order by precipitation amount and list the station, name, latitude, longitude, and elevation\n",
    "rainfall = session.query(Measurement.station,\\\n",
    "                         Station.name,\\\n",
    "                         Station.latitude,\\\n",
    "                         Station.longitude,\\\n",
    "                         Station.elevation,\\\n",
    "                         Measurement.prcp)\\\n",
    ".filter(Measurement.date >= my_trip_start_prior_year)\\\n",
    "          .filter(Measurement.date <= my_trip_end_prior_year)\\\n",
    ".order_by(Measurement.prcp.desc()).all()\n",
    "\n",
    "\n",
    "\n",
    "for x in rainfall:\n",
    "    print(x)\n"
   ]
  },
  {
   "cell_type": "code",
   "execution_count": null,
   "metadata": {},
   "outputs": [],
   "source": []
  },
  {
   "cell_type": "markdown",
   "metadata": {},
   "source": [
    "## Optional Challenge Assignment"
   ]
  },
  {
   "cell_type": "code",
   "execution_count": null,
   "metadata": {},
   "outputs": [],
   "source": [
    "# Create a query that will calculate the daily normals \n",
    "# (i.e. the averages for tmin, tmax, and tavg for all historic data matching a specific month and day)\n",
    "\n",
    "def daily_normals(date):\n",
    "    \"\"\"Daily Normals.\n",
    "    \n",
    "    Args:\n",
    "        date (str): A date string in the format '%m-%d'\n",
    "        \n",
    "    Returns:\n",
    "        A list of tuples containing the daily normals, tmin, tavg, and tmax\n",
    "    \n",
    "    \"\"\"\n",
    "    \n",
    "    sel = [func.min(Measurement.tobs), func.avg(Measurement.tobs), func.max(Measurement.tobs)]\n",
    "    return session.query(*sel).filter(func.strftime(\"%m-%d\", Measurement.date) == date).all()\n",
    "    \n",
    "daily_normals(\"01-01\")"
   ]
  },
  {
   "cell_type": "code",
   "execution_count": null,
   "metadata": {},
   "outputs": [],
   "source": [
    "# calculate the daily normals for your trip\n",
    "# push each tuple of calculations into a list called `normals`\n",
    "\n",
    "# Set the start and end date of the trip\n",
    "\n",
    "# Use the start and end date to create a range of dates\n",
    "\n",
    "# Stip off the year and save a list of %m-%d strings\n",
    "\n",
    "# Loop through the list of %m-%d strings and calculate the normals for each date\n"
   ]
  },
  {
   "cell_type": "code",
   "execution_count": null,
   "metadata": {},
   "outputs": [],
   "source": [
    "# Load the previous query results into a Pandas DataFrame and add the `trip_dates` range as the `date` index\n"
   ]
  },
  {
   "cell_type": "code",
   "execution_count": null,
   "metadata": {},
   "outputs": [],
   "source": [
    "# Plot the daily normals as an area plot with `stacked=False`\n"
   ]
  }
 ],
 "metadata": {
  "kernel_info": {
   "name": "python3"
  },
  "kernelspec": {
   "display_name": "Python 3",
   "language": "python",
   "name": "python3"
  },
  "language_info": {
   "codemirror_mode": {
    "name": "ipython",
    "version": 3
   },
   "file_extension": ".py",
   "mimetype": "text/x-python",
   "name": "python",
   "nbconvert_exporter": "python",
   "pygments_lexer": "ipython3",
   "version": "3.7.3"
  },
  "nteract": {
   "version": "0.12.3"
  },
  "varInspector": {
   "cols": {
    "lenName": 16,
    "lenType": 16,
    "lenVar": 40
   },
   "kernels_config": {
    "python": {
     "delete_cmd_postfix": "",
     "delete_cmd_prefix": "del ",
     "library": "var_list.py",
     "varRefreshCmd": "print(var_dic_list())"
    },
    "r": {
     "delete_cmd_postfix": ") ",
     "delete_cmd_prefix": "rm(",
     "library": "var_list.r",
     "varRefreshCmd": "cat(var_dic_list()) "
    }
   },
   "types_to_exclude": [
    "module",
    "function",
    "builtin_function_or_method",
    "instance",
    "_Feature"
   ],
   "window_display": false
  }
 },
 "nbformat": 4,
 "nbformat_minor": 2
}
